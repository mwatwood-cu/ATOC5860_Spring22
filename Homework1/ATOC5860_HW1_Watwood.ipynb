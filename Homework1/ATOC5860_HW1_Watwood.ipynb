{
 "cells": [
  {
   "cell_type": "markdown",
   "metadata": {},
   "source": [
    "# Matt Watwood HW1 ATOC 5860"
   ]
  },
  {
   "cell_type": "markdown",
   "metadata": {},
   "source": [
    "1. \n",
    "    a. Bayes Theorem.  Assume background rates of COVID are 90% negative, 10% positive AND COVID tests are accurate 80% of the time, but fail 20% of the time. Your friend goes and gets a COVID test.  Your friend test negative. What is the probability that your friend is actually negative? Explain to your friend how you are using Bayes theorem to inform your thinking. (10 points)\n",
    "\n",
    "    $Pr(C) = 0.10 = \\text{Probability that Covid Positive Background}$\n",
    "\n",
    "    $Pr(\\tilde{C}) = 0.9 = \\text{Probability that Covid Negative Background}$\n",
    "\n",
    "    $Pr(-) = 0.8 = \\text{Probability that Covid Test is Accurate}$\n",
    "\n",
    "    $Pr(+) = 0.2 \\text{Probability that Covid Test is Inaccurate}$\n",
    "\n",
    "    We want to know $Pr(\\tilde{C}|-)$ the probability of actual negative given the negative test result\n",
    "\n"
   ]
  },
  {
   "cell_type": "markdown",
   "metadata": {},
   "source": []
  }
 ],
 "metadata": {
  "language_info": {
   "name": "python"
  },
  "orig_nbformat": 4
 },
 "nbformat": 4,
 "nbformat_minor": 2
}
